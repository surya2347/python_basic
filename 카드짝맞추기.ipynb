{
  "nbformat": 4,
  "nbformat_minor": 0,
  "metadata": {
    "colab": {
      "provenance": [],
      "authorship_tag": "ABX9TyOQczCZJfgyU0t4+1NgSvPv",
      "include_colab_link": true
    },
    "kernelspec": {
      "name": "python3",
      "display_name": "Python 3"
    },
    "language_info": {
      "name": "python"
    }
  },
  "cells": [
    {
      "cell_type": "markdown",
      "metadata": {
        "id": "view-in-github",
        "colab_type": "text"
      },
      "source": [
        "<a href=\"https://colab.research.google.com/github/surya2347/python_basic/blob/main/%EC%B9%B4%EB%93%9C%EC%A7%9D%EB%A7%9E%EC%B6%94%EA%B8%B0.ipynb\" target=\"_parent\"><img src=\"https://colab.research.google.com/assets/colab-badge.svg\" alt=\"Open In Colab\"/></a>"
      ]
    },
    {
      "cell_type": "markdown",
      "source": [
        "##카카오 문제 ( 난이도 3)\n",
        "\n",
        "https://school.programmers.co.kr/learn/courses/30/lessons/72415"
      ],
      "metadata": {
        "id": "sIVcQ9DHun7G"
      }
    },
    {
      "cell_type": "code",
      "execution_count": null,
      "metadata": {
        "colab": {
          "base_uri": "https://localhost:8080/"
        },
        "id": "Z_IZqQ-asYsM",
        "outputId": "a1cacee8-0f14-440a-9e24-68c16a59b099"
      },
      "outputs": [
        {
          "output_type": "stream",
          "name": "stdout",
          "text": [
            "14\n",
            "16\n"
          ]
        }
      ],
      "source": []
    },
    {
      "cell_type": "code",
      "source": [
        "def solution(board, r, c):\n",
        "# 현재 위치에서 다음 카드를 찾는 방법\n",
        "  ans = 0\n",
        "  # 보드판에 카드가 남아있을 때 까지 반복\n",
        "  while sum(sum(board,[])) > 0:\n",
        "\n",
        "    # 선택할 카드의 종류 초기화\n",
        "    num = 0\n",
        "\n",
        "    # 현재 커서에 카드가 있을 경우 -> 해당 카드 선택 & 카드 뒤집기(지움)\n",
        "    if board[r][c] != 0:\n",
        "      ans += 1\n",
        "      num = board[r][c]\n",
        "      board[r][c] = 0\n",
        "\n",
        "    # 현재 커서에 카드가 없을 경우\n",
        "    else:\n",
        "      # 같은 행이나 열에 카드가 있는지 왼쪽과 위에서 부터 확인\n",
        "      # 있을경우, 해당 카드를 선택하고 카드 뒤집기(지움)\n",
        "      for i in range(4):\n",
        "        if board[r][i] != 0:\n",
        "          ans += 2\n",
        "          num = board[r][i]\n",
        "          board[r][i] = 0\n",
        "          c = i\n",
        "          break\n",
        "        elif board[i][c] != 0:\n",
        "          ans +=2\n",
        "          num = board[i][c]\n",
        "          board[i][c] = 0\n",
        "          r = i\n",
        "          break\n",
        "\n",
        "      # 선택된 카드가 없을 경우, 왼쪽 위에서부터 남아있는 카드를 찾고, 해당 카드 선택 및 뒤집기(지움)\n",
        "      if num == 0:\n",
        "        ans += 3\n",
        "        for i in range(16):\n",
        "          if board[i//4][i%4]!=0:\n",
        "            num = board[i//4][i%4]\n",
        "            board[i//4][i%4] = 0\n",
        "            r = i//4\n",
        "            c = i%4\n",
        "            break\n",
        "\n",
        "    # 선택한 카드가 있는 짝꿍 카드의 위치(인덱스)를 찾기\n",
        "    boardlin = sum(board,[])     #2차원의 배열을 1차원 배열로 풀어서 찾음\n",
        "    pairidx = boardlin.index(num)\n",
        "    # 같은 행이나 열에 있을 경우, 이동 한번 + 엔터키\n",
        "    if pairidx // 4 == r or pairidx % 4 == c:\n",
        "      ans += 2\n",
        "    # 아닐경우, 이동 두번 + 엔터키\n",
        "    else:\n",
        "      ans += 3\n",
        "\n",
        "    # 짝꿍 카드 뒤집기(지움)\n",
        "    board[pairidx // 4][pairidx % 4] = 0\n",
        "\n",
        "    # 커서이동\n",
        "    r = pairidx // 4\n",
        "    c = pairidx % 4\n",
        "  return ans\n",
        "\n",
        "\n",
        "\n",
        "\n",
        "print(solution([[1,0,0,3],[2,0,0,0],[0,0,0,2],[3,0,1,0]], 1, 0))\n",
        "print(solution([[3,0,0,2],[0,0,1,0],[0,1,0,0],[2,0,0,3]], 0, 1))"
      ],
      "metadata": {
        "id": "YhOmGQXYzx8-"
      },
      "execution_count": null,
      "outputs": []
    }
  ]
}