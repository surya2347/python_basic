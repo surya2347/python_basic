{
  "nbformat": 4,
  "nbformat_minor": 0,
  "metadata": {
    "colab": {
      "provenance": [],
      "authorship_tag": "ABX9TyMvTzZqpY3J5FYAVB4FxcJ/",
      "include_colab_link": true
    },
    "kernelspec": {
      "name": "python3",
      "display_name": "Python 3"
    },
    "language_info": {
      "name": "python"
    }
  },
  "cells": [
    {
      "cell_type": "markdown",
      "metadata": {
        "id": "view-in-github",
        "colab_type": "text"
      },
      "source": [
        "<a href=\"https://colab.research.google.com/github/surya2347/python_basic/blob/main/2.5%EB%8B%A8%EA%B3%84%20%EC%BD%94%ED%85%8C%EB%AC%B8%EC%A0%9C.ipynb\" target=\"_parent\"><img src=\"https://colab.research.google.com/assets/colab-badge.svg\" alt=\"Open In Colab\"/></a>"
      ]
    },
    {
      "cell_type": "code",
      "execution_count": 40,
      "metadata": {
        "colab": {
          "base_uri": "https://localhost:8080/"
        },
        "id": "oC1mEF9UlGiG",
        "outputId": "ea369224-35b3-474a-bf1d-8b49f6309948"
      },
      "outputs": [
        {
          "output_type": "stream",
          "name": "stdout",
          "text": [
            "3\n",
            "01:00 aa\n",
            "00:40 bb\n",
            "03:10 aa\n",
            "aa   19\n",
            "bb   10\n"
          ]
        }
      ],
      "source": [
        "#1. 자료를 더하고 나누고 계산하고 정렬\n",
        "n = int(input())\n",
        "record=[]\n",
        "name=[]\n",
        "time=[0 for i in range(n)]\n",
        "for i in range(n):\n",
        "  record.append(input().split())\n",
        "for i in range(n):\n",
        "  tag=False\n",
        "  if len(name)==0:\n",
        "    name.append(record[i][1])\n",
        "  h,min = record[i][0].split(':')\n",
        "  for k in range(len(name)):\n",
        "    if name[k] == record[i][1]:\n",
        "      tag=True\n",
        "      break\n",
        "  if tag==True:\n",
        "    time[k] += int(min) + int(h)*60\n",
        "  else:\n",
        "    name.append(record[i][1])\n",
        "    time[name.index(record[i][1])] += int(min) + int(h)*60\n",
        "\n",
        "result=[]\n",
        "#요금 계산하기\n",
        "for i in range(len(name)):\n",
        "  if time[i] <= 100:\n",
        "    result.append([name[i], 10])\n",
        "  else:\n",
        "    result.append([name[i], ((time[i]-100) // 50) * 3 + ((time[i]-100)%50 != 0)*3 + 10 ])\n",
        "\n",
        "result.sort(key=lambda x:x[1], reverse=True)\n",
        "\n",
        "for i in range(len(name)):\n",
        "  print(result[i][0], ' ', result[i][1])"
      ]
    },
    {
      "cell_type": "code",
      "source": [
        "#2. count 정렬\n",
        "n = int(input())\n",
        "stu = input().split()\n",
        "stulove= []\n",
        "for i in range(n):\n",
        "  stulove.append(input().split())\n",
        "result = [0 for i in range(n)]\n",
        "for name in range(n):\n",
        "  for i in range(n):\n",
        "    for j in range(len(stulove[i])):\n",
        "      if (stulove[i][j] == stu[name]):\n",
        "        result[name] += 1\n",
        "for i in range(n):\n",
        "  result[i] = [stu[i], result[i]]\n",
        "result.sort(key = lambda x:x[1], reverse=True)\n",
        "\n",
        "for i in range(n):\n",
        "  print(result[i][0], ' ', result[i][1])\n"
      ],
      "metadata": {
        "colab": {
          "base_uri": "https://localhost:8080/"
        },
        "id": "D0UPun7Emk2i",
        "outputId": "ba52ebec-7319-4907-c4a1-740f32777298"
      },
      "execution_count": 25,
      "outputs": [
        {
          "output_type": "stream",
          "name": "stdout",
          "text": [
            "4\n",
            "aa bb cc dd\n",
            "bb dd\n",
            "aa dd\n",
            "aa\n",
            "aa bb\n",
            "aa   3\n",
            "bb   2\n",
            "dd   2\n",
            "cc   0\n"
          ]
        }
      ]
    },
    {
      "cell_type": "code",
      "source": [
        "#3. 일치(좀어려움)\n",
        "# 정답지 만들기\n",
        "n,m = input().split()\n",
        "n = int(n)\n",
        "m = int(m)\n",
        "pref_ans=[]\n",
        "qus = []\n",
        "for i in range(n):\n",
        "  pref_ans.append(input().split())\n",
        "for i in range(m):\n",
        "  qus.append(input().split())\n",
        "\n",
        "count = [0 for i in range(m)]\n",
        "for i in range(m):\n",
        "  for k in range(n):\n",
        "    tmp = 0\n",
        "    for id,val in enumerate(qus[i]):\n",
        "      if ((pref_ans[k][id] == val) or (val =='-')):\n",
        "        tmp += 1\n",
        "    if tmp == 3:\n",
        "      count[i] += 1\n",
        "\n",
        "print(count)"
      ],
      "metadata": {
        "colab": {
          "base_uri": "https://localhost:8080/"
        },
        "id": "0YupwvAimvZb",
        "outputId": "bfa51a15-cf3e-4f79-c81a-cde3487cd094"
      },
      "execution_count": 59,
      "outputs": [
        {
          "output_type": "stream",
          "name": "stdout",
          "text": [
            "5 4\n",
            "kor app red\n",
            "kor pea blu\n",
            "eng app red\n",
            "eng ora blu\n",
            "mat app gre\n",
            "kor app red\n",
            "kor - blu\n",
            "eng - -\n",
            "- - red\n",
            "0 kor\n",
            "1 app\n",
            "2 red\n",
            "0 번째 학생은 정답입니다.\n",
            "0 kor\n",
            "1 app\n",
            "2 red\n",
            "1 app\n",
            "0 kor\n",
            "1 -\n",
            "0 kor\n",
            "1 -\n",
            "2 blu\n",
            "1 번째 학생은 정답입니다.\n",
            "1 -\n",
            "1 -\n",
            "2 blu\n",
            "1 -\n",
            "1 -\n",
            "2 -\n",
            "1 -\n",
            "2 -\n",
            "0 eng\n",
            "1 -\n",
            "2 -\n",
            "2 번째 학생은 정답입니다.\n",
            "0 eng\n",
            "1 -\n",
            "2 -\n",
            "3 번째 학생은 정답입니다.\n",
            "1 -\n",
            "2 -\n",
            "0 -\n",
            "1 -\n",
            "2 red\n",
            "0 번째 학생은 정답입니다.\n",
            "0 -\n",
            "1 -\n",
            "0 -\n",
            "1 -\n",
            "2 red\n",
            "2 번째 학생은 정답입니다.\n",
            "0 -\n",
            "1 -\n",
            "0 -\n",
            "1 -\n",
            "[1, 1, 2, 2]\n"
          ]
        }
      ]
    },
    {
      "cell_type": "code",
      "source": [
        "#4. 찾기 + 일치(좀어려움)\n",
        "# X = input()\n",
        "# Y = input()\n",
        "# Z = input()\n",
        "# k = int(input())\n",
        "X = 'abc'\n",
        "Y = 'acde'\n",
        "Z = 'cde'\n",
        "k = 2\n",
        "\n",
        "result=[]\n",
        "\n",
        "# 각 문자열들에 따른 조합들을 찾는다\n",
        "com = C(X,k)\n",
        "com = com + C(Y,k)\n",
        "com = com + C(Z,k)\n",
        "for i in range(len(com)):\n",
        "  for j in range(i+1,len(com)):\n",
        "    if com[i]==com[j]:\n",
        "      result.append(com[i])\n",
        "print(result)\n",
        "\n",
        "def C(s, k):\n",
        "  result=[]\n",
        "  for i in range(len(s)):\n",
        "    for j in range(i+1,len(s)):\n",
        "      result.append(s[i]+s[j])\n",
        "  return result"
      ],
      "metadata": {
        "colab": {
          "base_uri": "https://localhost:8080/"
        },
        "id": "sT57hyYOnJJI",
        "outputId": "a4bda4b3-e7f0-452c-88f3-e612ef64ada1"
      },
      "execution_count": 96,
      "outputs": [
        {
          "output_type": "stream",
          "name": "stdout",
          "text": [
            "['ac', 'cd', 'ce', 'de']\n"
          ]
        }
      ]
    },
    {
      "cell_type": "code",
      "source": [
        "# 5. 진수변환(아몰랑) + split() + sum()\n",
        "n, k = input().split()\n",
        "n = int(n)\n",
        "k = int(k)\n",
        "arr =[]\n",
        "result =[]\n",
        "a = ''\n",
        "sum = 0\n",
        "# n을 k진수로 변환\n",
        "while(n//k != 0):\n",
        "  arr.append(n%k)\n",
        "  n = n//k\n",
        "arr.append(n%k)\n",
        "arr.reverse()\n",
        "a = a.join(str(s) for s in arr)\n",
        "\n",
        "#0을 기준으로 split\n",
        "b = a.split('0')\n",
        "if '' in b:\n",
        "  b.remove('')\n",
        "for val in b:\n",
        "  sum += int(val)\n",
        "\n",
        "while(sum//k != 0):\n",
        "  result.append(sum%k)\n",
        "  sum = sum//k\n",
        "result.append(sum%k)\n",
        "result.reverse()\n",
        "print(''.join(str(s) for s in result))"
      ],
      "metadata": {
        "colab": {
          "base_uri": "https://localhost:8080/"
        },
        "id": "ILqzlIShna-A",
        "outputId": "c9b6b6ab-6813-4f5a-cab0-ba616cfbd184"
      },
      "execution_count": 85,
      "outputs": [
        {
          "output_type": "stream",
          "name": "stdout",
          "text": [
            "437674 3\n",
            "22101\n"
          ]
        }
      ]
    },
    {
      "cell_type": "code",
      "source": [],
      "metadata": {
        "id": "pB_-ELMV9Wg6"
      },
      "execution_count": null,
      "outputs": []
    }
  ]
}