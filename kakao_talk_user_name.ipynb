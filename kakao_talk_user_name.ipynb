{
  "nbformat": 4,
  "nbformat_minor": 0,
  "metadata": {
    "colab": {
      "provenance": [],
      "authorship_tag": "ABX9TyOr7SOoNe5EsbrJ/1nvb7XE",
      "include_colab_link": true
    },
    "kernelspec": {
      "name": "python3",
      "display_name": "Python 3"
    },
    "language_info": {
      "name": "python"
    }
  },
  "cells": [
    {
      "cell_type": "markdown",
      "metadata": {
        "id": "view-in-github",
        "colab_type": "text"
      },
      "source": [
        "<a href=\"https://colab.research.google.com/github/surya2347/python_basic/blob/main/kakao_talk_user_name.ipynb\" target=\"_parent\"><img src=\"https://colab.research.google.com/assets/colab-badge.svg\" alt=\"Open In Colab\"/></a>"
      ]
    },
    {
      "cell_type": "code",
      "execution_count": 1,
      "metadata": {
        "id": "OfIsuei5OGzA",
        "outputId": "8ddc2fc6-ddcc-4fbe-be1b-ce3925f1cd06",
        "colab": {
          "base_uri": "https://localhost:8080/"
        }
      },
      "outputs": [
        {
          "output_type": "stream",
          "name": "stdout",
          "text": [
            "['Enter uid1234 prodo', 'Change uid1234 prodo', 'Enter uid1111 Ryan', 'Leave uid1234 prodo']\n"
          ]
        }
      ],
      "source": [
        "def solution(record):\n",
        "  result=[]\n",
        "  user={}\n",
        "\n",
        "  for line in record:\n",
        "    message= list(line.split())\n",
        "    if (message[0] == \"Enter\") or (message[0] == \"Change\"):\n",
        "      user[message[1]] = message[2]\n",
        "\n",
        "  for line in record:\n",
        "    message= list(line.split())\n",
        "    message[2] = user[message[1]]\n",
        "    result.append(' '.join(message))\n",
        "\n",
        "  return result\n",
        "\n",
        "\n",
        "\n",
        "print(solution([\"Enter uid1234 Muzi\",\"Change uid1234 prodo\",\"Enter uid1111 Ryan\",\"Leave uid1234 Muzi\"]))"
      ]
    }
  ]
}