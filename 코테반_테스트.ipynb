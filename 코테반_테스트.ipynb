{
  "nbformat": 4,
  "nbformat_minor": 0,
  "metadata": {
    "colab": {
      "provenance": [],
      "authorship_tag": "ABX9TyPC+vZZKJ/muzMAZ9uYGoS3",
      "include_colab_link": true
    },
    "kernelspec": {
      "name": "python3",
      "display_name": "Python 3"
    },
    "language_info": {
      "name": "python"
    }
  },
  "cells": [
    {
      "cell_type": "markdown",
      "metadata": {
        "id": "view-in-github",
        "colab_type": "text"
      },
      "source": [
        "<a href=\"https://colab.research.google.com/github/surya2347/python_basic/blob/main/%EC%BD%94%ED%85%8C%EB%B0%98_%ED%85%8C%EC%8A%A4%ED%8A%B8.ipynb\" target=\"_parent\"><img src=\"https://colab.research.google.com/assets/colab-badge.svg\" alt=\"Open In Colab\"/></a>"
      ]
    },
    {
      "cell_type": "markdown",
      "source": [
        "문제 1번\n"
      ],
      "metadata": {
        "id": "kF9E28XQhevD"
      }
    },
    {
      "cell_type": "code",
      "execution_count": null,
      "metadata": {
        "colab": {
          "base_uri": "https://localhost:8080/"
        },
        "id": "-Cnwl3bLcCgx",
        "outputId": "a21ef24d-2909-4e23-dc31-464b4f66d28b"
      },
      "outputs": [
        {
          "output_type": "stream",
          "name": "stdout",
          "text": [
            "2\n",
            "ABCDE\n",
            "ABCDE\n",
            "12345\n",
            "<class 'str'>\n",
            "<class 'str'>\n",
            "<class 'str'>\n",
            "<class 'str'>\n",
            "<class 'int'>\n"
          ]
        }
      ],
      "source": [
        "# 함수형태\n",
        "'''\n",
        "def number1(number){\n",
        "# 피보나치 수열 만들어두기 (FL)\n",
        "FL = []\n",
        "FL.append(0)\n",
        "FL.append(1)\n",
        "for i in range(100000):\n",
        "  FL.append(FL[i] + FL[i+1])\n",
        "\n",
        "# 숫자를 입력 받는다\n",
        "#input(number)\n",
        "#number = 3\n",
        "\n",
        "# 해당 피보나치를 1234567로 나눈 나머지를 리턴한다\n",
        "print(FL[number] % 1234567)\n",
        "\n",
        "return FL[number] % 1234567\n",
        "}\n",
        "'''\n",
        "\n",
        "#일반버전\n",
        "# 피보나치 수열 만들어두기 (FL)\n",
        "FL = []\n",
        "FL.append(0)\n",
        "FL.append(1)\n",
        "for i in range(100000):\n",
        "  FL.append(FL[i] + FL[i+1])\n",
        "\n",
        "# 숫자를 입력 받는다\n",
        "#input(number)\n",
        "number = 3\n",
        "\n",
        "# 해당 피보나치를 1234567로 나눈 나머지를 리턴한다\n",
        "print( FL[number] % 1234567 )\n",
        "\n",
        "print('ABCDE')\n",
        "print(\"ABCDE\")\n",
        "print(12345)\n",
        "print(type('ABCDE'))\n",
        "print(type(\"ABCDE\"))\n",
        "print(type('A'))\n",
        "print(type(\"A\"))\n",
        "print(type(12345))\n",
        "\n",
        "\n",
        "\n",
        "\n"
      ]
    },
    {
      "cell_type": "markdown",
      "source": [
        "문제 2번\n"
      ],
      "metadata": {
        "id": "d5skLtN5hgWT"
      }
    },
    {
      "cell_type": "code",
      "source": [
        "# input(n, m[])\n",
        "n = 10\n",
        "m = [1,2,5]\n",
        "tmp = 0\n",
        "count = 0\n",
        "\n",
        "LENGTH = m.length()\n",
        "\n",
        "for i in range(LENGTH):\n",
        "  print(\"현재 화폐단위\" , i)\n",
        "  for j in range(100,000):\n",
        "    if (m[i] > (n - tmp)):\n",
        "      print(\"현재 거스름돈\", tmp)\n",
        "\n",
        "\n",
        "\n",
        "\n",
        "    if (n % tmp == 0):\n",
        "\n",
        "      count = count + 1\n",
        "      tmp = 0\n",
        "      break\n",
        "    tmp = tmp + m[i] * j\n",
        "\n",
        "print(count)\n"
      ],
      "metadata": {
        "colab": {
          "base_uri": "https://localhost:8080/",
          "height": 221
        },
        "id": "cR01HtBkcjI1",
        "outputId": "9343ad5e-142e-4cd6-8bb5-be2ba0dcb9a6"
      },
      "execution_count": null,
      "outputs": [
        {
          "output_type": "error",
          "ename": "AttributeError",
          "evalue": "'list' object has no attribute 'length'",
          "traceback": [
            "\u001b[0;31m---------------------------------------------------------------------------\u001b[0m",
            "\u001b[0;31mAttributeError\u001b[0m                            Traceback (most recent call last)",
            "\u001b[0;32m<ipython-input-9-5f922c5a3feb>\u001b[0m in \u001b[0;36m<cell line: 0>\u001b[0;34m()\u001b[0m\n\u001b[1;32m      5\u001b[0m \u001b[0mcount\u001b[0m \u001b[0;34m=\u001b[0m \u001b[0;36m0\u001b[0m\u001b[0;34m\u001b[0m\u001b[0;34m\u001b[0m\u001b[0m\n\u001b[1;32m      6\u001b[0m \u001b[0;34m\u001b[0m\u001b[0m\n\u001b[0;32m----> 7\u001b[0;31m \u001b[0mLENGTH\u001b[0m \u001b[0;34m=\u001b[0m \u001b[0mm\u001b[0m\u001b[0;34m.\u001b[0m\u001b[0mlength\u001b[0m\u001b[0;34m(\u001b[0m\u001b[0;34m)\u001b[0m\u001b[0;34m\u001b[0m\u001b[0;34m\u001b[0m\u001b[0m\n\u001b[0m\u001b[1;32m      8\u001b[0m \u001b[0;34m\u001b[0m\u001b[0m\n\u001b[1;32m      9\u001b[0m \u001b[0;32mfor\u001b[0m \u001b[0mi\u001b[0m \u001b[0;32min\u001b[0m \u001b[0mrange\u001b[0m\u001b[0;34m(\u001b[0m\u001b[0mLENGTH\u001b[0m\u001b[0;34m)\u001b[0m\u001b[0;34m:\u001b[0m\u001b[0;34m\u001b[0m\u001b[0;34m\u001b[0m\u001b[0m\n",
            "\u001b[0;31mAttributeError\u001b[0m: 'list' object has no attribute 'length'"
          ]
        }
      ]
    },
    {
      "cell_type": "code",
      "source": [],
      "metadata": {
        "id": "YIbG9COfkXpX"
      },
      "execution_count": null,
      "outputs": []
    }
  ]
}