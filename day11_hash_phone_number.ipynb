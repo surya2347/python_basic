{
  "nbformat": 4,
  "nbformat_minor": 0,
  "metadata": {
    "colab": {
      "provenance": [],
      "authorship_tag": "ABX9TyP5tSbEdQKaafBb9Q01Ik6B",
      "include_colab_link": true
    },
    "kernelspec": {
      "name": "python3",
      "display_name": "Python 3"
    },
    "language_info": {
      "name": "python"
    }
  },
  "cells": [
    {
      "cell_type": "markdown",
      "metadata": {
        "id": "view-in-github",
        "colab_type": "text"
      },
      "source": [
        "<a href=\"https://colab.research.google.com/github/surya2347/python_basic/blob/main/day11_hash_phone_number.ipynb\" target=\"_parent\"><img src=\"https://colab.research.google.com/assets/colab-badge.svg\" alt=\"Open In Colab\"/></a>"
      ]
    },
    {
      "cell_type": "code",
      "execution_count": null,
      "metadata": {
        "colab": {
          "base_uri": "https://localhost:8080/"
        },
        "id": "iAMGyJScNQ_a",
        "outputId": "6ef77f78-f0b7-4544-8929-f82d8e3fcc64"
      },
      "outputs": [
        {
          "output_type": "stream",
          "name": "stdout",
          "text": [
            "False\n",
            "True\n",
            "False\n"
          ]
        }
      ],
      "source": [
        "def solution(phone_book):\n",
        "  result=True\n",
        "  phone_book.sort(key=lambda x:len(x))\n",
        "  for i in range(len(phone_book)):\n",
        "    for j in range(i,len(phone_book)):\n",
        "      if len(phone_book[i]) < len(phone_book[j]):\n",
        "        if phone_book[i] == phone_book[j][0:len(phone_book[i])]:\n",
        "          result = False\n",
        "  return result\n",
        "\n",
        "\n",
        "\n",
        "\n",
        "print(solution(['119','97674223','1195524421']))\n",
        "print(solution([\"123\",\"456\",\"789\"]))\n",
        "print(solution([\"12\",\"123\",\"1235\",\"88\"]))"
      ]
    },
    {
      "cell_type": "code",
      "source": [],
      "metadata": {
        "id": "oSFR370QNhp_"
      },
      "execution_count": null,
      "outputs": []
    }
  ]
}